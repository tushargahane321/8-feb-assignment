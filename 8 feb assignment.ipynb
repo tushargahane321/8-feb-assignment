{
 "cells": [
  {
   "cell_type": "markdown",
   "id": "f56697b3-f8aa-4156-aee5-5120e527b6e6",
   "metadata": {},
   "source": [
    "Q1. What is Abstraction in OOps? Explain with an example."
   ]
  },
  {
   "cell_type": "markdown",
   "id": "935d1b53-4d10-4dc1-a614-185ce2417733",
   "metadata": {},
   "source": [
    "Answer :Abstraction is an important concept in Object-Oriented Programming (OOP) that refers to the act of hiding implementation details and exposing only the essential features of an object or class to the outside world. The goal of abstraction is to simplify the interaction between objects, making it easier for developers to understand and work with complex systems.\n",
    "\n",
    "An example of abstraction in Python could be a class for a bank account. A user of this class only needs to know that they can deposit money, withdraw money, and check their balance, but they don't need to know the implementation details of how these actions are performed."
   ]
  },
  {
   "cell_type": "code",
   "execution_count": null,
   "id": "1b78dc60-08ea-4693-837a-7b1e90e895c9",
   "metadata": {},
   "outputs": [],
   "source": [
    "Here is a simple implementation of the bank account class in Python:"
   ]
  },
  {
   "cell_type": "code",
   "execution_count": 6,
   "id": "a4203014-b696-4c75-aee5-c8f5d662473f",
   "metadata": {},
   "outputs": [
    {
     "name": "stdout",
     "output_type": "stream",
     "text": [
      "100000\n"
     ]
    }
   ],
   "source": [
    "class BankAccount:\n",
    "    def __init__(self, balance):\n",
    "        self.__balance = balance\n",
    "\n",
    "    def deposit(self, amount):\n",
    "        self.__balance += amount\n",
    "\n",
    "    def withdraw(self, amount):\n",
    "        if self.__balance >= amount:\n",
    "            self.__balance -= amount\n",
    "            return f\"Your transaction of {amount} is successful.\"\n",
    "        else:\n",
    "            return ValueError(\"Insufficient fund\")\n",
    "\n",
    "    def check_balance(self):\n",
    "        return self.__balance\n",
    "\n",
    "tushar = BankAccount(100000)\n",
    "print(tushar.check_balance())"
   ]
  },
  {
   "cell_type": "markdown",
   "id": "eb19dd17-caab-4c9e-ac16-2e755cf524c0",
   "metadata": {},
   "source": [
    "In this example, the user only needs to know about the methods deposit(), withdraw(), and check_balance(), and does not need to know about the underlying _balance attribute. This makes it easier for them to interact with the class and reduces the risk of errors that could result from direct manipulation of the _balance attribute."
   ]
  },
  {
   "cell_type": "code",
   "execution_count": null,
   "id": "75045dce-ed36-421b-bd7a-c7dad1d26633",
   "metadata": {},
   "outputs": [],
   "source": [
    "Q2. Differentiate between Abstraction and Encapsulation. Explain with an example."
   ]
  },
  {
   "cell_type": "markdown",
   "id": "e932197a-d9ae-43e3-bb98-766f2f1cd7bb",
   "metadata": {},
   "source": [
    "Answer :Abstraction and encapsulation are two important concepts in Object-Oriented Programming (OOP). While they are related, they have distinct differences.\n",
    "\n",
    "Abstraction refers to the act of hiding the implementation details of a class or object and exposing only the essential features to the outside world. The goal of abstraction is to simplify the interaction between objects, making it easier for developers to understand and work with complex systems.\n",
    "\n",
    "Encapsulation, on the other hand, is the practice of bundling data and methods that operate on that data within a single unit, or object. Encapsulation provides a level of security for the data by hiding it from the outside world and making it only accessible through a well-defined interface.\n",
    "\n",
    "An example of abstraction and encapsulation in Python could be a class for a bank account. The bank account class provides an abstraction of the underlying financial transactions by exposing only the essential features, such as deposit, withdraw, and check balance, to the outside world. The implementation details, such as the balance, are encapsulated within the class, and are only accessible through the well-defined interface provided by the class's methods."
   ]
  },
  {
   "cell_type": "code",
   "execution_count": 7,
   "id": "313968db-1cea-4197-bb17-1ea85861f955",
   "metadata": {},
   "outputs": [
    {
     "name": "stdout",
     "output_type": "stream",
     "text": [
      "100000\n"
     ]
    }
   ],
   "source": [
    "class BankAccount:\n",
    "    def __init__(self, balance):\n",
    "        self._balance = balance\n",
    "\n",
    "    def deposit(self, amount):\n",
    "        self._balance += amount\n",
    "\n",
    "    def withdraw(self, amount):\n",
    "        if self._balance >= amount:\n",
    "            self._balance -= amount\n",
    "            return f\"Your transaction of {amount} is successful.\"\n",
    "        else:\n",
    "            return ValueError(\"Insufficient fund\")\n",
    "\n",
    "    def check_balance(self):\n",
    "        return self._balance\n",
    "\n",
    "\n",
    "tushar = BankAccount(100000)\n",
    "print(tushar.check_balance())"
   ]
  },
  {
   "cell_type": "markdown",
   "id": "f69c5b99-4655-4e6e-af4e-e9741c57eab0",
   "metadata": {},
   "source": [
    "In this example, the bank account class provides abstraction by exposing only the methods deposit(), withdraw(), and check_balance(), while encapsulating the _balance attribute. This makes it easier for users of the class to interact with it and reduces the risk of errors that could result from direct manipulation of the _balance attribute."
   ]
  },
  {
   "cell_type": "markdown",
   "id": "57d34056-cfde-4b5a-88a7-b26b081c328e",
   "metadata": {},
   "source": [
    "Q3. What is abc module in python? Why is it used?"
   ]
  },
  {
   "cell_type": "markdown",
   "id": "155b23ca-821b-4075-b47b-6e61a247454c",
   "metadata": {},
   "source": [
    "Answer :The abc module in Python stands for \"Abstract Base Classes\". It provides a way to define abstract classes in Python, which are classes that cannot be instantiated directly, but must be subclassed by concrete classes that implement their abstract methods.\n",
    "\n",
    "Abstract classes are useful when you want to define a common interface for a group of related classes, but you do not want to provide a default implementation for that interface. This allows you to ensure that all concrete classes that implement the interface have the same set of methods and attributes, making it easier to write code that works with any of those classes.\n",
    "\n",
    "The abc module provides two key decorators that are used to define abstract classes"
   ]
  },
  {
   "cell_type": "markdown",
   "id": "5e0a4a1b-8957-47b2-bff1-8ac47dc329bf",
   "metadata": {},
   "source": [
    "1.@abstractmethod: This decorator is used to mark a method as abstract. Abstract methods are methods that do not have an implementation in the abstract class, but must be implemented by any concrete class that inherits from the abstract class."
   ]
  },
  {
   "cell_type": "markdown",
   "id": "8f751311-9d16-4b25-8756-5a0a84a9fcee",
   "metadata": {},
   "source": [
    "2.@abc.abstractclassmethod: This decorator is used to mark a class method as abstract. Class methods are methods that are bound to the class, rather than to an instance of the class."
   ]
  },
  {
   "cell_type": "markdown",
   "id": "6fa4b978-19c1-416e-9abb-e70bbdd9c614",
   "metadata": {},
   "source": [
    "Here's an example of how to use the abc module to define an abstract class: In this example, the Animal class is an abstract base class that defines an abstract method called speak(). The Dog and Cat classes inherit from Animal and provide a concrete implementation of the speak() method. Since Dog and Cat implement the speak() method, they can be instantiated and used in code that expects an Animal object."
   ]
  },
  {
   "cell_type": "code",
   "execution_count": 8,
   "id": "e4fbf551-47fa-4cdc-8f73-27e73f90408c",
   "metadata": {},
   "outputs": [],
   "source": [
    "import abc\n",
    "\n",
    "class Animal(metaclass=abc.ABCMeta):\n",
    "    @abc.abstractmethod\n",
    "    def speak(self):\n",
    "        pass\n",
    "\n",
    "class Dog(Animal):\n",
    "    def speak(self):\n",
    "        return \"Woof!\"\n",
    "\n",
    "class Cat(Animal):\n",
    "    def speak(self):\n",
    "        return \"Meow!\""
   ]
  },
  {
   "cell_type": "markdown",
   "id": "7c09c8ab-3768-4414-935f-f67bc4048fc8",
   "metadata": {},
   "source": [
    "Q4. How can we achieve data abstraction?"
   ]
  },
  {
   "cell_type": "markdown",
   "id": "be33a3dc-726f-470a-ae4d-9b12a0253071",
   "metadata": {},
   "source": [
    "Answer: In Python, data abstraction can be achieved through the use of classes and objects. A class can be used to define an abstract data type, which encapsulates data and the operations that can be performed on that data. The class can then be used to create objects, which represent instances of the abstract data type. By hiding the implementation details of the data and operations within the class, and only exposing a public interface for interacting with the data, we can achieve data abstraction"
   ]
  },
  {
   "cell_type": "code",
   "execution_count": 9,
   "id": "34188d45-85ab-4700-8921-18104091f44e",
   "metadata": {},
   "outputs": [
    {
     "name": "stdout",
     "output_type": "stream",
     "text": [
      "3\n",
      "2\n",
      "1\n"
     ]
    }
   ],
   "source": [
    "class Stack:\n",
    "    def __init__(self):\n",
    "        self._stack = []\n",
    "\n",
    "    def push(self, item):\n",
    "        self._stack.append(item)\n",
    "\n",
    "    def pop(self):\n",
    "        return self._stack.pop()\n",
    "\n",
    "stack = Stack()\n",
    "stack.push(1)\n",
    "stack.push(2)\n",
    "stack.push(3)\n",
    "\n",
    "print(stack.pop()) # 3\n",
    "print(stack.pop()) # 2\n",
    "print(stack.pop()) # 1"
   ]
  },
  {
   "cell_type": "markdown",
   "id": "8df73d5f-799b-4820-9487-b88d68426d84",
   "metadata": {},
   "source": [
    "In this example, the Stack class defines an abstract data type for a stack. The stack is implemented as a list, and the push and pop methods allow items to be added to and removed from the stack. By keeping the implementation details of the stack within the class, and only exposing the push and pop methods, we achieve data abstraction. This makes it easy to change the implementation of the stack in the future, without affecting any code that uses the stack."
   ]
  },
  {
   "cell_type": "markdown",
   "id": "786d5a74-e330-4f27-a663-3165f570f0ad",
   "metadata": {},
   "source": [
    "Q5. Can we create an instance of an abstract class? Explain your answer."
   ]
  },
  {
   "cell_type": "markdown",
   "id": "0226217b-e2f6-4e0e-9ce2-24934807ee07",
   "metadata": {},
   "source": [
    "Answer :No, we cannot create an instance of an abstract class in Python. An abstract class is a class that has one or more abstract methods, which are methods that do not have an implementation in the abstract class but must be implemented in the subclass.\n",
    "\n",
    "Since an abstract class has one or more abstract methods that do not have an implementation, it is not possible to create an instance of an abstract class. Instead, we must create a concrete subclass that implements all the abstract methods defined in the abstract class. Once we have a concrete subclass, we can create an instance of that subclass."
   ]
  },
  {
   "cell_type": "markdown",
   "id": "1c35a0b6-1ac5-446e-bf07-cea1724b8ee6",
   "metadata": {},
   "source": [
    "For example, consider the following abstract class:"
   ]
  },
  {
   "cell_type": "code",
   "execution_count": 10,
   "id": "98c24ae9-a442-484c-b664-e8a11b365058",
   "metadata": {},
   "outputs": [],
   "source": [
    "import abc\n",
    "\n",
    "class MyAbstractClass(metaclass=abc.ABCMeta):\n",
    "    \"\"\"Since this class has an abstract method `my_abstract_method` that does not have an implementation, \n",
    "    we cannot create an instance of this class directly. \n",
    "    Instead, we must create a concrete subclass that implements the `my_abstract_method` method, like this:\"\"\"\n",
    "\n",
    "    @abc.abstractmethod\n",
    "    def my_abstract_method(self):\n",
    "        pass\n",
    "\n",
    "\n",
    "class MyConcreteClass(MyAbstractClass):\n",
    "    \"\"\"This is perfectly valid because MyConcreteClass is a \n",
    "    concrete subclass that implements all the abstract methods defined in MyAbstractClass\"\"\"\n",
    "\n",
    "    def my_abstract_method(self):\n",
    "        print(\"This is a concrete implementation of the abstract method\")\n",
    "# Now, we can create an instance of the MyConcreteClass subclass:\n",
    "obj = MyConcreteClass()"
   ]
  },
  {
   "cell_type": "code",
   "execution_count": null,
   "id": "81f8a22b-59d9-4c3c-aa03-99ff107d4752",
   "metadata": {},
   "outputs": [],
   "source": []
  },
  {
   "cell_type": "code",
   "execution_count": null,
   "id": "a5f3a015-075c-406e-b002-a06d99ac5c25",
   "metadata": {},
   "outputs": [],
   "source": []
  },
  {
   "cell_type": "code",
   "execution_count": null,
   "id": "7f755e63-e3cd-4233-a179-1744cec155bb",
   "metadata": {},
   "outputs": [],
   "source": []
  }
 ],
 "metadata": {
  "kernelspec": {
   "display_name": "Python 3 (ipykernel)",
   "language": "python",
   "name": "python3"
  },
  "language_info": {
   "codemirror_mode": {
    "name": "ipython",
    "version": 3
   },
   "file_extension": ".py",
   "mimetype": "text/x-python",
   "name": "python",
   "nbconvert_exporter": "python",
   "pygments_lexer": "ipython3",
   "version": "3.10.8"
  }
 },
 "nbformat": 4,
 "nbformat_minor": 5
}
